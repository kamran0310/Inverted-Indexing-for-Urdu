{
  "nbformat": 4,
  "nbformat_minor": 0,
  "metadata": {
    "colab": {
      "name": "Urdu Inverted Index.ipynb",
      "provenance": [],
      "collapsed_sections": [],
      "include_colab_link": true
    },
    "kernelspec": {
      "name": "python3",
      "display_name": "Python 3"
    }
  },
  "cells": [
    {
      "cell_type": "markdown",
      "metadata": {
        "id": "view-in-github",
        "colab_type": "text"
      },
      "source": [
        "<a href=\"https://colab.research.google.com/github/kamran0310/Inverted-Indexing-for-Urdu/blob/main/Urdu_Inverted_Index.ipynb\" target=\"_parent\"><img src=\"https://colab.research.google.com/assets/colab-badge.svg\" alt=\"Open In Colab\"/></a>"
      ]
    },
    {
      "cell_type": "code",
      "metadata": {
        "colab": {
          "base_uri": "https://localhost:8080/"
        },
        "id": "jy7vjF4BibHW",
        "outputId": "e0bae66a-cf13-4fe6-9a7b-1d6a6b396bf6"
      },
      "source": [
        "from google.colab import drive\n",
        "drive.mount('/content/drive')"
      ],
      "execution_count": null,
      "outputs": [
        {
          "output_type": "stream",
          "text": [
            "Drive already mounted at /content/drive; to attempt to forcibly remount, call drive.mount(\"/content/drive\", force_remount=True).\n"
          ],
          "name": "stdout"
        }
      ]
    },
    {
      "cell_type": "code",
      "metadata": {
        "colab": {
          "base_uri": "https://localhost:8080/"
        },
        "id": "hujaFEnNc8e7",
        "outputId": "48a885f4-e276-40bf-c187-6c676503dc9c"
      },
      "source": [
        "pip install stanza"
      ],
      "execution_count": null,
      "outputs": [
        {
          "output_type": "stream",
          "text": [
            "Requirement already satisfied: stanza in /usr/local/lib/python3.6/dist-packages (1.2)\n",
            "Requirement already satisfied: torch>=1.3.0 in /usr/local/lib/python3.6/dist-packages (from stanza) (1.7.0+cu101)\n",
            "Requirement already satisfied: requests in /usr/local/lib/python3.6/dist-packages (from stanza) (2.23.0)\n",
            "Requirement already satisfied: tqdm in /usr/local/lib/python3.6/dist-packages (from stanza) (4.41.1)\n",
            "Requirement already satisfied: protobuf in /usr/local/lib/python3.6/dist-packages (from stanza) (3.12.4)\n",
            "Requirement already satisfied: numpy in /usr/local/lib/python3.6/dist-packages (from stanza) (1.19.5)\n",
            "Requirement already satisfied: future in /usr/local/lib/python3.6/dist-packages (from torch>=1.3.0->stanza) (0.16.0)\n",
            "Requirement already satisfied: typing-extensions in /usr/local/lib/python3.6/dist-packages (from torch>=1.3.0->stanza) (3.7.4.3)\n",
            "Requirement already satisfied: dataclasses in /usr/local/lib/python3.6/dist-packages (from torch>=1.3.0->stanza) (0.8)\n",
            "Requirement already satisfied: idna<3,>=2.5 in /usr/local/lib/python3.6/dist-packages (from requests->stanza) (2.10)\n",
            "Requirement already satisfied: urllib3!=1.25.0,!=1.25.1,<1.26,>=1.21.1 in /usr/local/lib/python3.6/dist-packages (from requests->stanza) (1.24.3)\n",
            "Requirement already satisfied: chardet<4,>=3.0.2 in /usr/local/lib/python3.6/dist-packages (from requests->stanza) (3.0.4)\n",
            "Requirement already satisfied: certifi>=2017.4.17 in /usr/local/lib/python3.6/dist-packages (from requests->stanza) (2020.12.5)\n",
            "Requirement already satisfied: setuptools in /usr/local/lib/python3.6/dist-packages (from protobuf->stanza) (53.0.0)\n",
            "Requirement already satisfied: six>=1.9 in /usr/local/lib/python3.6/dist-packages (from protobuf->stanza) (1.15.0)\n"
          ],
          "name": "stdout"
        }
      ]
    },
    {
      "cell_type": "code",
      "metadata": {
        "id": "NYwaYqvwdH_A"
      },
      "source": [
        "import stanza"
      ],
      "execution_count": null,
      "outputs": []
    },
    {
      "cell_type": "code",
      "metadata": {
        "colab": {
          "base_uri": "https://localhost:8080/"
        },
        "id": "kZxPl3E_dKKH",
        "outputId": "31f5cb6a-9e80-41d9-bd91-07fb12ed8f9b"
      },
      "source": [
        "stanza.download('urdu')"
      ],
      "execution_count": null,
      "outputs": [
        {
          "output_type": "stream",
          "text": [
            "Downloading https://raw.githubusercontent.com/stanfordnlp/stanza-resources/master/resources_1.2.0.json: 128kB [00:00, 19.8MB/s]                    \n",
            "2021-02-16 07:32:38 INFO: \"urdu\" is an alias for \"ur\"\n",
            "2021-02-16 07:32:38 INFO: Downloading default packages for language: ur (Urdu)...\n",
            "2021-02-16 07:32:38 INFO: File exists: /root/stanza_resources/ur/default.zip.\n",
            "2021-02-16 07:32:39 INFO: Finished downloading models and saved to /root/stanza_resources.\n"
          ],
          "name": "stderr"
        }
      ]
    },
    {
      "cell_type": "code",
      "metadata": {
        "colab": {
          "base_uri": "https://localhost:8080/"
        },
        "id": "_r4fxjR2hhtE",
        "outputId": "d9db42a8-116e-4673-e177-673895af8f96"
      },
      "source": [
        "nlp=stanza.Pipeline(lang='ur', processors='tokenize')"
      ],
      "execution_count": null,
      "outputs": [
        {
          "output_type": "stream",
          "text": [
            "2021-02-16 07:32:39 INFO: Loading these models for language: ur (Urdu):\n",
            "=======================\n",
            "| Processor | Package |\n",
            "-----------------------\n",
            "| tokenize  | udtb    |\n",
            "=======================\n",
            "\n",
            "2021-02-16 07:32:39 INFO: Use device: cpu\n",
            "2021-02-16 07:32:39 INFO: Loading: tokenize\n",
            "2021-02-16 07:32:40 INFO: Done loading processors!\n"
          ],
          "name": "stderr"
        }
      ]
    },
    {
      "cell_type": "code",
      "metadata": {
        "id": "Poz_b7VELyy7"
      },
      "source": [
        "file = open('/content/drive/MyDrive/Colab Files/Urdu test text 1.txt', encoding='utf8')\r\n"
      ],
      "execution_count": null,
      "outputs": []
    },
    {
      "cell_type": "code",
      "metadata": {
        "id": "YXfoPaBiORYW"
      },
      "source": [
        "read = file.read()"
      ],
      "execution_count": null,
      "outputs": []
    },
    {
      "cell_type": "code",
      "metadata": {
        "colab": {
          "base_uri": "https://localhost:8080/"
        },
        "id": "2qIxNk12PQe6",
        "outputId": "ef854a84-e686-4536-99fb-8fd9f19285a9"
      },
      "source": [
        "read\r\n",
        "file.seek(0)"
      ],
      "execution_count": null,
      "outputs": [
        {
          "output_type": "execute_result",
          "data": {
            "text/plain": [
              "0"
            ]
          },
          "metadata": {
            "tags": []
          },
          "execution_count": 80
        }
      ]
    },
    {
      "cell_type": "code",
      "metadata": {
        "colab": {
          "base_uri": "https://localhost:8080/"
        },
        "id": "pgcFvYuROmrl",
        "outputId": "a1cf872a-1423-44c5-fbcb-86b4db5ac577"
      },
      "source": [
        "line = 1\r\n",
        "\r\n",
        "for word in read:\r\n",
        "    if word == '\\n':\r\n",
        "        line += 1\r\n",
        "print(\"Number of lines in a file is: \", line)"
      ],
      "execution_count": null,
      "outputs": [
        {
          "output_type": "stream",
          "text": [
            "Number of lines in a file is:  5\n"
          ],
          "name": "stdout"
        }
      ]
    },
    {
      "cell_type": "code",
      "metadata": {
        "id": "4-7nVc7wP3AK"
      },
      "source": [
        "doc = []"
      ],
      "execution_count": null,
      "outputs": []
    },
    {
      "cell_type": "code",
      "metadata": {
        "id": "ldCesO9uQDuc"
      },
      "source": [
        "for i in range(line):\r\n",
        "  doc.append(file.readline())"
      ],
      "execution_count": null,
      "outputs": []
    },
    {
      "cell_type": "code",
      "metadata": {
        "colab": {
          "base_uri": "https://localhost:8080/"
        },
        "id": "eHNfQGGtQPTY",
        "outputId": "be0ced08-45b2-4da9-a17d-ccf7cfd82a35"
      },
      "source": [
        "doc"
      ],
      "execution_count": null,
      "outputs": [
        {
          "output_type": "execute_result",
          "data": {
            "text/plain": [
              "['\\ufeffمیرا نام کامران ہے۔ \\n',\n",
              " 'میں یونیورسٹی آف انجینئرنگ پشاور میں زیر تعلیم ہوں۔ \\n',\n",
              " 'میں اس ملک کا محب وطن شہری ہوں۔ میں افواہیں نہیں پھیلاتا اور نہ ہی میں ان پر یقین کرتا ہوں۔\\n',\n",
              " 'میں زیادہ سے زیادہ مثبت خیالات پھیلاتا ہوں۔\\n',\n",
              " '']"
            ]
          },
          "metadata": {
            "tags": []
          },
          "execution_count": 84
        }
      ]
    },
    {
      "cell_type": "code",
      "metadata": {
        "id": "OpM7trgYQrhu"
      },
      "source": [
        "string = ''\r\n",
        "for i in doc:\r\n",
        "  string += i"
      ],
      "execution_count": null,
      "outputs": []
    },
    {
      "cell_type": "code",
      "metadata": {
        "colab": {
          "base_uri": "https://localhost:8080/",
          "height": 52
        },
        "id": "_PO7vOIqRnGW",
        "outputId": "dec59fca-bbee-46bb-a834-be5afbc9caa7"
      },
      "source": [
        "string"
      ],
      "execution_count": null,
      "outputs": [
        {
          "output_type": "execute_result",
          "data": {
            "application/vnd.google.colaboratory.intrinsic+json": {
              "type": "string"
            },
            "text/plain": [
              "'\\ufeffمیرا نام کامران ہے۔ \\nمیں یونیورسٹی آف انجینئرنگ پشاور میں زیر تعلیم ہوں۔ \\nمیں اس ملک کا محب وطن شہری ہوں۔ میں افواہیں نہیں پھیلاتا اور نہ ہی میں ان پر یقین کرتا ہوں۔\\nمیں زیادہ سے زیادہ مثبت خیالات پھیلاتا ہوں۔\\n'"
            ]
          },
          "metadata": {
            "tags": []
          },
          "execution_count": 86
        }
      ]
    },
    {
      "cell_type": "code",
      "metadata": {
        "id": "ZFIH0wenC77M"
      },
      "source": [
        "docs = nlp(string)"
      ],
      "execution_count": null,
      "outputs": []
    },
    {
      "cell_type": "code",
      "metadata": {
        "colab": {
          "base_uri": "https://localhost:8080/"
        },
        "id": "wvO_rLwPkf7b",
        "outputId": "b91b7fed-eb87-4de7-e32d-2e9457756182"
      },
      "source": [
        "for i, sentence in enumerate(docs.sentences):\r\n",
        "  print(f\"============sentence {i + 1} tokens===============\")\r\n",
        "  print(*[f'id: {token.id} \\text: {token.text}' for token in sentence.tokens], sep='\\n')"
      ],
      "execution_count": null,
      "outputs": [
        {
          "output_type": "stream",
          "text": [
            "============sentence 1 tokens===============\n",
            "id: (1,) \text: ﻿میرا\n",
            "id: (2,) \text: نام\n",
            "id: (3,) \text: کامران\n",
            "id: (4,) \text: ہے\n",
            "id: (5,) \text: ۔\n",
            "============sentence 2 tokens===============\n",
            "id: (1,) \text: میں\n",
            "id: (2,) \text: یونیورسٹی\n",
            "id: (3,) \text: آف\n",
            "id: (4,) \text: انجینئرنگ\n",
            "id: (5,) \text: پشاور\n",
            "id: (6,) \text: میں\n",
            "id: (7,) \text: زیر\n",
            "id: (8,) \text: تعلیم\n",
            "id: (9,) \text: ہوں\n",
            "id: (10,) \text: ۔\n",
            "============sentence 3 tokens===============\n",
            "id: (1,) \text: میں\n",
            "id: (2,) \text: اس\n",
            "id: (3,) \text: ملک\n",
            "id: (4,) \text: کا\n",
            "id: (5,) \text: محب\n",
            "id: (6,) \text: وطن\n",
            "id: (7,) \text: شہری\n",
            "id: (8,) \text: ہوں\n",
            "id: (9,) \text: ۔\n",
            "============sentence 4 tokens===============\n",
            "id: (1,) \text: میں\n",
            "id: (2,) \text: افواہیں\n",
            "id: (3,) \text: نہیں\n",
            "id: (4,) \text: پھیلاتا\n",
            "id: (5,) \text: اور\n",
            "id: (6,) \text: نہ\n",
            "id: (7,) \text: ہی\n",
            "id: (8,) \text: میں\n",
            "id: (9,) \text: ان\n",
            "id: (10,) \text: پر\n",
            "id: (11,) \text: یقین\n",
            "id: (12,) \text: کرتا\n",
            "id: (13,) \text: ہوں\n",
            "id: (14,) \text: ۔\n",
            "============sentence 5 tokens===============\n",
            "id: (1,) \text: میں\n",
            "id: (2,) \text: زیادہ\n",
            "id: (3,) \text: سے\n",
            "id: (4,) \text: زیادہ\n",
            "id: (5,) \text: مثبت\n",
            "id: (6,) \text: خیالات\n",
            "id: (7,) \text: پھیلاتا\n",
            "id: (8,) \text: ہوں\n",
            "id: (9,) \text: ۔\n"
          ],
          "name": "stdout"
        }
      ]
    },
    {
      "cell_type": "code",
      "metadata": {
        "colab": {
          "base_uri": "https://localhost:8080/",
          "height": 52
        },
        "id": "1a_wZOQFWPd4",
        "outputId": "60922f38-bb57-47e4-fee5-72049c868967"
      },
      "source": [
        "docs.text"
      ],
      "execution_count": null,
      "outputs": [
        {
          "output_type": "execute_result",
          "data": {
            "application/vnd.google.colaboratory.intrinsic+json": {
              "type": "string"
            },
            "text/plain": [
              "'\\ufeffمیرا نام کامران ہے۔ \\nمیں یونیورسٹی آف انجینئرنگ پشاور میں زیر تعلیم ہوں۔ \\nمیں اس ملک کا محب وطن شہری ہوں۔ میں افواہیں نہیں پھیلاتا اور نہ ہی میں ان پر یقین کرتا ہوں۔\\nمیں زیادہ سے زیادہ مثبت خیالات پھیلاتا ہوں۔\\n'"
            ]
          },
          "metadata": {
            "tags": []
          },
          "execution_count": 89
        }
      ]
    },
    {
      "cell_type": "code",
      "metadata": {
        "colab": {
          "base_uri": "https://localhost:8080/"
        },
        "id": "73n8Af6gKuVL",
        "outputId": "b9770086-e7ec-4b76-e3b8-0eb45ef38153"
      },
      "source": [
        "print([sentence.text for sentence in docs.sentences])  "
      ],
      "execution_count": null,
      "outputs": [
        {
          "output_type": "stream",
          "text": [
            "['\\ufeffمیرا نام کامران ہے۔', 'میں یونیورسٹی آف انجینئرنگ پشاور میں زیر تعلیم ہوں۔', 'میں اس ملک کا محب وطن شہری ہوں۔', 'میں افواہیں نہیں پھیلاتا اور نہ ہی میں ان پر یقین کرتا ہوں۔', 'میں زیادہ سے زیادہ مثبت خیالات پھیلاتا ہوں۔']\n"
          ],
          "name": "stdout"
        }
      ]
    },
    {
      "cell_type": "markdown",
      "metadata": {
        "id": "y2HR2fHuSbjA"
      },
      "source": [
        ""
      ]
    },
    {
      "cell_type": "code",
      "metadata": {
        "id": "e6xcU1CFVaTw"
      },
      "source": [
        "my_list = [sentence.text for sentence in docs.sentences]"
      ],
      "execution_count": null,
      "outputs": []
    },
    {
      "cell_type": "code",
      "metadata": {
        "colab": {
          "base_uri": "https://localhost:8080/"
        },
        "id": "BZcLZdRkvmvX",
        "outputId": "751b69ca-6979-4d45-a245-05e7a8861561"
      },
      "source": [
        "my_list"
      ],
      "execution_count": null,
      "outputs": [
        {
          "output_type": "execute_result",
          "data": {
            "text/plain": [
              "['\\ufeffمیرا نام کامران ہے۔',\n",
              " 'میں یونیورسٹی آف انجینئرنگ پشاور میں زیر تعلیم ہوں۔',\n",
              " 'میں اس ملک کا محب وطن شہری ہوں۔',\n",
              " 'میں افواہیں نہیں پھیلاتا اور نہ ہی میں ان پر یقین کرتا ہوں۔',\n",
              " 'میں زیادہ سے زیادہ مثبت خیالات پھیلاتا ہوں۔']"
            ]
          },
          "metadata": {
            "tags": []
          },
          "execution_count": 92
        }
      ]
    },
    {
      "cell_type": "code",
      "metadata": {
        "colab": {
          "base_uri": "https://localhost:8080/"
        },
        "id": "NYG1ZrN0xtR6",
        "outputId": "c78b9cbf-6475-46f4-e8e3-75e5d5069fb1"
      },
      "source": [
        "term_set = set()\r\n",
        "for i, sentence in enumerate(docs.sentences):\r\n",
        "  print(f\"============sentence {i + 1} tokens===============\")\r\n",
        "  print(*[f'text: {token.text}' for token in sentence.tokens], sep='\\n')\r\n",
        "  {term_set.add(token.text) for token in sentence.tokens}\r\n",
        "  "
      ],
      "execution_count": null,
      "outputs": [
        {
          "output_type": "stream",
          "text": [
            "============sentence 1 tokens===============\n",
            "text: ﻿میرا\n",
            "text: نام\n",
            "text: کامران\n",
            "text: ہے\n",
            "text: ۔\n",
            "============sentence 2 tokens===============\n",
            "text: میں\n",
            "text: یونیورسٹی\n",
            "text: آف\n",
            "text: انجینئرنگ\n",
            "text: پشاور\n",
            "text: میں\n",
            "text: زیر\n",
            "text: تعلیم\n",
            "text: ہوں\n",
            "text: ۔\n",
            "============sentence 3 tokens===============\n",
            "text: میں\n",
            "text: اس\n",
            "text: ملک\n",
            "text: کا\n",
            "text: محب\n",
            "text: وطن\n",
            "text: شہری\n",
            "text: ہوں\n",
            "text: ۔\n",
            "============sentence 4 tokens===============\n",
            "text: میں\n",
            "text: افواہیں\n",
            "text: نہیں\n",
            "text: پھیلاتا\n",
            "text: اور\n",
            "text: نہ\n",
            "text: ہی\n",
            "text: میں\n",
            "text: ان\n",
            "text: پر\n",
            "text: یقین\n",
            "text: کرتا\n",
            "text: ہوں\n",
            "text: ۔\n",
            "============sentence 5 tokens===============\n",
            "text: میں\n",
            "text: زیادہ\n",
            "text: سے\n",
            "text: زیادہ\n",
            "text: مثبت\n",
            "text: خیالات\n",
            "text: پھیلاتا\n",
            "text: ہوں\n",
            "text: ۔\n"
          ],
          "name": "stdout"
        }
      ]
    },
    {
      "cell_type": "code",
      "metadata": {
        "colab": {
          "base_uri": "https://localhost:8080/"
        },
        "id": "vH4GoLJ4zp6z",
        "outputId": "cc28933d-07eb-4947-d5be-7937b295b7c3"
      },
      "source": [
        "term_set"
      ],
      "execution_count": null,
      "outputs": [
        {
          "output_type": "execute_result",
          "data": {
            "text/plain": [
              "{'آف',\n",
              " 'اس',\n",
              " 'افواہیں',\n",
              " 'ان',\n",
              " 'انجینئرنگ',\n",
              " 'اور',\n",
              " 'تعلیم',\n",
              " 'خیالات',\n",
              " 'زیادہ',\n",
              " 'زیر',\n",
              " 'سے',\n",
              " 'شہری',\n",
              " 'مثبت',\n",
              " 'محب',\n",
              " 'ملک',\n",
              " 'میں',\n",
              " 'نام',\n",
              " 'نہ',\n",
              " 'نہیں',\n",
              " 'وطن',\n",
              " 'پر',\n",
              " 'پشاور',\n",
              " 'پھیلاتا',\n",
              " 'کا',\n",
              " 'کامران',\n",
              " 'کرتا',\n",
              " 'ہوں',\n",
              " 'ہی',\n",
              " 'ہے',\n",
              " 'یقین',\n",
              " 'یونیورسٹی',\n",
              " '۔',\n",
              " '\\ufeffمیرا'}"
            ]
          },
          "metadata": {
            "tags": []
          },
          "execution_count": 94
        }
      ]
    },
    {
      "cell_type": "code",
      "metadata": {
        "id": "38OTVZmd9D26"
      },
      "source": [
        "urdu_word = 'کامران'"
      ],
      "execution_count": null,
      "outputs": []
    },
    {
      "cell_type": "code",
      "metadata": {
        "colab": {
          "base_uri": "https://localhost:8080/"
        },
        "id": "2qCgYzSK6AIh",
        "outputId": "1e161d2e-d712-4c5d-db53-f701b27b615d"
      },
      "source": [
        " for i, sentence in enumerate(docs.sentences):\r\n",
        "  if urdu_word in sentence.text:\r\n",
        "    print(\"Yes it is in the list\")\r\n",
        "  else:\r\n",
        "    print(\"No it isn't in the list\")"
      ],
      "execution_count": null,
      "outputs": [
        {
          "output_type": "stream",
          "text": [
            "Yes it is in the list\n",
            "No it isn't in the list\n",
            "No it isn't in the list\n",
            "No it isn't in the list\n",
            "No it isn't in the list\n"
          ],
          "name": "stdout"
        }
      ]
    },
    {
      "cell_type": "code",
      "metadata": {
        "colab": {
          "base_uri": "https://localhost:8080/"
        },
        "id": "A15Ldiq6GLYR",
        "outputId": "6c9d75d0-9ff9-4180-cb4d-126f3b5f3376"
      },
      "source": [
        "print([term.text for term in sentence.tokens])"
      ],
      "execution_count": null,
      "outputs": [
        {
          "output_type": "stream",
          "text": [
            "['میں', 'زیادہ', 'سے', 'زیادہ', 'مثبت', 'خیالات', 'پھیلاتا', 'ہوں', '۔']\n"
          ],
          "name": "stdout"
        }
      ]
    },
    {
      "cell_type": "code",
      "metadata": {
        "colab": {
          "base_uri": "https://localhost:8080/"
        },
        "id": "uoOCVAx_B1Ap",
        "outputId": "91ad213a-a9b4-4ebf-b7a8-53b98994fcff"
      },
      "source": [
        "inverted_index = {}\r\n",
        "\r\n",
        "for i, sentence in enumerate(docs.sentences):\r\n",
        "  for token in sentence.tokens:\r\n",
        "    if token.text in inverted_index:\r\n",
        "      inverted_index[token.text].add(i)\r\n",
        "    else: inverted_index[token.text] = {i}\r\n",
        "inverted_index"
      ],
      "execution_count": null,
      "outputs": [
        {
          "output_type": "execute_result",
          "data": {
            "text/plain": [
              "{'آف': {1},\n",
              " 'اس': {2},\n",
              " 'افواہیں': {3},\n",
              " 'ان': {3},\n",
              " 'انجینئرنگ': {1},\n",
              " 'اور': {3},\n",
              " 'تعلیم': {1},\n",
              " 'خیالات': {4},\n",
              " 'زیادہ': {4},\n",
              " 'زیر': {1},\n",
              " 'سے': {4},\n",
              " 'شہری': {2},\n",
              " 'مثبت': {4},\n",
              " 'محب': {2},\n",
              " 'ملک': {2},\n",
              " 'میں': {1, 2, 3, 4},\n",
              " 'نام': {0},\n",
              " 'نہ': {3},\n",
              " 'نہیں': {3},\n",
              " 'وطن': {2},\n",
              " 'پر': {3},\n",
              " 'پشاور': {1},\n",
              " 'پھیلاتا': {3, 4},\n",
              " 'کا': {2},\n",
              " 'کامران': {0},\n",
              " 'کرتا': {3},\n",
              " 'ہوں': {1, 2, 3, 4},\n",
              " 'ہی': {3},\n",
              " 'ہے': {0},\n",
              " 'یقین': {3},\n",
              " 'یونیورسٹی': {1},\n",
              " '۔': {0, 1, 2, 3, 4},\n",
              " '\\ufeffمیرا': {0}}"
            ]
          },
          "metadata": {
            "tags": []
          },
          "execution_count": 98
        }
      ]
    },
    {
      "cell_type": "code",
      "metadata": {
        "colab": {
          "base_uri": "https://localhost:8080/"
        },
        "id": "XlO8I3nwMpAd",
        "outputId": "6dd1647c-2989-4a65-8505-2b98f006543d"
      },
      "source": [
        "inverted_index.values"
      ],
      "execution_count": null,
      "outputs": [
        {
          "output_type": "execute_result",
          "data": {
            "text/plain": [
              "<function dict.values>"
            ]
          },
          "metadata": {
            "tags": []
          },
          "execution_count": 99
        }
      ]
    },
    {
      "cell_type": "code",
      "metadata": {
        "colab": {
          "base_uri": "https://localhost:8080/"
        },
        "id": "c5UZdYM15qNM",
        "outputId": "c0a08a7c-0e6d-43ad-a909-3f2171621a91"
      },
      "source": [
        "inverted_index = {}\r\n",
        "for i, sentence in enumerate(docs.sentences):\r\n",
        "  for token in sentence.tokens:\r\n",
        "    if token.text in inverted_index:\r\n",
        "      inverted_index[token.text].add(i)\r\n",
        "    else: inverted_index[token.text] = {i}\r\n",
        "inverted_index"
      ],
      "execution_count": null,
      "outputs": [
        {
          "output_type": "execute_result",
          "data": {
            "text/plain": [
              "{'آف': {1},\n",
              " 'اس': {2},\n",
              " 'افواہیں': {3},\n",
              " 'ان': {3},\n",
              " 'انجینئرنگ': {1},\n",
              " 'اور': {3},\n",
              " 'تعلیم': {1},\n",
              " 'خیالات': {4},\n",
              " 'زیادہ': {4},\n",
              " 'زیر': {1},\n",
              " 'سے': {4},\n",
              " 'شہری': {2},\n",
              " 'مثبت': {4},\n",
              " 'محب': {2},\n",
              " 'ملک': {2},\n",
              " 'میں': {1, 2, 3, 4},\n",
              " 'نام': {0},\n",
              " 'نہ': {3},\n",
              " 'نہیں': {3},\n",
              " 'وطن': {2},\n",
              " 'پر': {3},\n",
              " 'پشاور': {1},\n",
              " 'پھیلاتا': {3, 4},\n",
              " 'کا': {2},\n",
              " 'کامران': {0},\n",
              " 'کرتا': {3},\n",
              " 'ہوں': {1, 2, 3, 4},\n",
              " 'ہی': {3},\n",
              " 'ہے': {0},\n",
              " 'یقین': {3},\n",
              " 'یونیورسٹی': {1},\n",
              " '۔': {0, 1, 2, 3, 4},\n",
              " '\\ufeffمیرا': {0}}"
            ]
          },
          "metadata": {
            "tags": []
          },
          "execution_count": 100
        }
      ]
    },
    {
      "cell_type": "code",
      "metadata": {
        "id": "_BhO68ucfbff"
      },
      "source": [
        "postings_list = inverted_index['پھیلاتا']"
      ],
      "execution_count": null,
      "outputs": []
    },
    {
      "cell_type": "code",
      "metadata": {
        "colab": {
          "base_uri": "https://localhost:8080/"
        },
        "id": "HEgHgmB-lYxV",
        "outputId": "b883f057-82d7-47d6-ab7b-4874e7f81791"
      },
      "source": [
        "postings_list"
      ],
      "execution_count": null,
      "outputs": [
        {
          "output_type": "execute_result",
          "data": {
            "text/plain": [
              "{3, 4}"
            ]
          },
          "metadata": {
            "tags": []
          },
          "execution_count": 102
        }
      ]
    },
    {
      "cell_type": "code",
      "metadata": {
        "id": "ZG8B4Ec_lkQz"
      },
      "source": [
        "def or_postings(posting1, posting2):\r\n",
        "    p1 = 0\r\n",
        "    p2 = 0\r\n",
        "    result = list()\r\n",
        "    while p1 < len(posting1) and p2 < len(posting2):\r\n",
        "        if posting1[p1] == posting2[p2]:\r\n",
        "            result.append(posting1[p1])\r\n",
        "            p1 += 1\r\n",
        "            p2 += 1\r\n",
        "        elif posting1[p1] > posting2[p2]:\r\n",
        "            result.append(posting2[p2])\r\n",
        "            p2 += 1\r\n",
        "        else:\r\n",
        "            result.append(posting1[p1])\r\n",
        "            p1 += 1\r\n",
        "    while p1 < len(posting1):\r\n",
        "        result.append(posting1[p1])\r\n",
        "        p1 += 1\r\n",
        "    while p2 < len(posting2):\r\n",
        "        result.append(posting2[p2])\r\n",
        "        p2 += 1\r\n",
        "    return result"
      ],
      "execution_count": null,
      "outputs": []
    },
    {
      "cell_type": "code",
      "metadata": {
        "colab": {
          "base_uri": "https://localhost:8080/"
        },
        "id": "DFsDMGt6m7-s",
        "outputId": "ad3eac9b-6200-4f38-f9a3-7bb4604712f4"
      },
      "source": [
        "pl_1 = list(inverted_index['پشاور'])\r\n",
        "pl_2 = list(inverted_index['یقین'])\r\n",
        "or_postings(pl_1, pl_2)"
      ],
      "execution_count": null,
      "outputs": [
        {
          "output_type": "execute_result",
          "data": {
            "text/plain": [
              "[1, 3]"
            ]
          },
          "metadata": {
            "tags": []
          },
          "execution_count": 106
        }
      ]
    },
    {
      "cell_type": "code",
      "metadata": {
        "id": "oKv5Y3XuquyU"
      },
      "source": [
        "def and_postings(posting1, posting2):\r\n",
        "    p1 = 0\r\n",
        "    p2 = 0\r\n",
        "    result = list()\r\n",
        "    while p1 < len(posting1) and p2 < len(posting2):\r\n",
        "        if posting1[p1] == posting2[p2]:\r\n",
        "            result.append(posting1[p1])\r\n",
        "            p1 += 1\r\n",
        "            p2 += 1\r\n",
        "        elif posting1[p1] > posting2[p2]:\r\n",
        "            p2 += 1\r\n",
        "        else:\r\n",
        "            p1 += 1\r\n",
        "    return result"
      ],
      "execution_count": null,
      "outputs": []
    },
    {
      "cell_type": "code",
      "metadata": {
        "colab": {
          "base_uri": "https://localhost:8080/"
        },
        "id": "PoQqyUrfq2e9",
        "outputId": "73104aa9-97ca-4f77-8c63-2ba92e9f98de"
      },
      "source": [
        "pl_1 = list(inverted_index['پشاور'])\r\n",
        "pl_2 = list(inverted_index['یقین'])\r\n",
        "and_postings(pl_1, pl_2)"
      ],
      "execution_count": null,
      "outputs": [
        {
          "output_type": "execute_result",
          "data": {
            "text/plain": [
              "[]"
            ]
          },
          "metadata": {
            "tags": []
          },
          "execution_count": 109
        }
      ]
    }
  ]
}