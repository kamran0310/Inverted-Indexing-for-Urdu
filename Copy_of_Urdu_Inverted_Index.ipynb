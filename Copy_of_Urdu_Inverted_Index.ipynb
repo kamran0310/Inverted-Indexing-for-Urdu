{
  "nbformat": 4,
  "nbformat_minor": 0,
  "metadata": {
    "colab": {
      "name": "Copy of Urdu Inverted Index.ipynb",
      "provenance": [],
      "collapsed_sections": [],
      "toc_visible": true,
      "include_colab_link": true
    },
    "kernelspec": {
      "name": "python3",
      "display_name": "Python 3"
    }
  },
  "cells": [
    {
      "cell_type": "markdown",
      "metadata": {
        "id": "view-in-github",
        "colab_type": "text"
      },
      "source": [
        "<a href=\"https://colab.research.google.com/github/kamran0310/Inverted-Indexing-for-Urdu/blob/dev/Copy_of_Urdu_Inverted_Index.ipynb\" target=\"_parent\"><img src=\"https://colab.research.google.com/assets/colab-badge.svg\" alt=\"Open In Colab\"/></a>"
      ]
    },
    {
      "cell_type": "code",
      "metadata": {
        "colab": {
          "base_uri": "https://localhost:8080/"
        },
        "id": "jy7vjF4BibHW",
        "outputId": "1b753182-8d9a-49d6-bf44-570ec7385069"
      },
      "source": [
        "from google.colab import drive\n",
        "drive.mount('/content/drive')"
      ],
      "execution_count": null,
      "outputs": [
        {
          "output_type": "stream",
          "text": [
            "Drive already mounted at /content/drive; to attempt to forcibly remount, call drive.mount(\"/content/drive\", force_remount=True).\n"
          ],
          "name": "stdout"
        }
      ]
    },
    {
      "cell_type": "code",
      "metadata": {
        "colab": {
          "base_uri": "https://localhost:8080/"
        },
        "id": "hujaFEnNc8e7",
        "outputId": "91642e43-e50b-4903-e158-05aa0a13c51d"
      },
      "source": [
        "pip install stanza"
      ],
      "execution_count": null,
      "outputs": [
        {
          "output_type": "stream",
          "text": [
            "Requirement already satisfied: stanza in /usr/local/lib/python3.7/dist-packages (1.2)\n",
            "Requirement already satisfied: requests in /usr/local/lib/python3.7/dist-packages (from stanza) (2.23.0)\n",
            "Requirement already satisfied: protobuf in /usr/local/lib/python3.7/dist-packages (from stanza) (3.12.4)\n",
            "Requirement already satisfied: torch>=1.3.0 in /usr/local/lib/python3.7/dist-packages (from stanza) (1.8.0+cu101)\n",
            "Requirement already satisfied: numpy in /usr/local/lib/python3.7/dist-packages (from stanza) (1.19.5)\n",
            "Requirement already satisfied: tqdm in /usr/local/lib/python3.7/dist-packages (from stanza) (4.41.1)\n",
            "Requirement already satisfied: chardet<4,>=3.0.2 in /usr/local/lib/python3.7/dist-packages (from requests->stanza) (3.0.4)\n",
            "Requirement already satisfied: idna<3,>=2.5 in /usr/local/lib/python3.7/dist-packages (from requests->stanza) (2.10)\n",
            "Requirement already satisfied: urllib3!=1.25.0,!=1.25.1,<1.26,>=1.21.1 in /usr/local/lib/python3.7/dist-packages (from requests->stanza) (1.24.3)\n",
            "Requirement already satisfied: certifi>=2017.4.17 in /usr/local/lib/python3.7/dist-packages (from requests->stanza) (2020.12.5)\n",
            "Requirement already satisfied: six>=1.9 in /usr/local/lib/python3.7/dist-packages (from protobuf->stanza) (1.15.0)\n",
            "Requirement already satisfied: setuptools in /usr/local/lib/python3.7/dist-packages (from protobuf->stanza) (54.1.2)\n",
            "Requirement already satisfied: typing-extensions in /usr/local/lib/python3.7/dist-packages (from torch>=1.3.0->stanza) (3.7.4.3)\n"
          ],
          "name": "stdout"
        }
      ]
    },
    {
      "cell_type": "code",
      "metadata": {
        "id": "NYwaYqvwdH_A"
      },
      "source": [
        "import stanza"
      ],
      "execution_count": null,
      "outputs": []
    },
    {
      "cell_type": "code",
      "metadata": {
        "colab": {
          "base_uri": "https://localhost:8080/"
        },
        "id": "kZxPl3E_dKKH",
        "outputId": "dc05b69b-d32c-4ac7-8ff9-fecf30677f76"
      },
      "source": [
        "stanza.download('urdu')"
      ],
      "execution_count": null,
      "outputs": [
        {
          "output_type": "stream",
          "text": [
            "Downloading https://raw.githubusercontent.com/stanfordnlp/stanza-resources/master/resources_1.2.0.json: 128kB [00:00, 28.3MB/s]                    \n",
            "2021-03-26 14:41:35 INFO: \"urdu\" is an alias for \"ur\"\n",
            "2021-03-26 14:41:35 INFO: Downloading default packages for language: ur (Urdu)...\n",
            "2021-03-26 14:41:35 INFO: File exists: /root/stanza_resources/ur/default.zip.\n",
            "2021-03-26 14:41:37 INFO: Finished downloading models and saved to /root/stanza_resources.\n"
          ],
          "name": "stderr"
        }
      ]
    },
    {
      "cell_type": "code",
      "metadata": {
        "colab": {
          "base_uri": "https://localhost:8080/"
        },
        "id": "_r4fxjR2hhtE",
        "outputId": "baf00e35-07d1-46cf-f27a-d91cef83e845"
      },
      "source": [
        "nlp=stanza.Pipeline(lang='ur', processors='tokenize')"
      ],
      "execution_count": null,
      "outputs": [
        {
          "output_type": "stream",
          "text": [
            "2021-03-26 14:41:37 INFO: Loading these models for language: ur (Urdu):\n",
            "=======================\n",
            "| Processor | Package |\n",
            "-----------------------\n",
            "| tokenize  | udtb    |\n",
            "=======================\n",
            "\n",
            "2021-03-26 14:41:37 INFO: Use device: cpu\n",
            "2021-03-26 14:41:37 INFO: Loading: tokenize\n",
            "2021-03-26 14:41:37 INFO: Done loading processors!\n"
          ],
          "name": "stderr"
        }
      ]
    },
    {
      "cell_type": "code",
      "metadata": {
        "id": "Poz_b7VELyy7"
      },
      "source": [
        "file = open('/content/drive/MyDrive/Colab Files/Urdu test text 1.txt', encoding='utf8')\n"
      ],
      "execution_count": null,
      "outputs": []
    },
    {
      "cell_type": "code",
      "metadata": {
        "id": "YXfoPaBiORYW"
      },
      "source": [
        "read = file.read()"
      ],
      "execution_count": null,
      "outputs": []
    },
    {
      "cell_type": "code",
      "metadata": {
        "id": "woM8QYXhS--A"
      },
      "source": [
        "#upload stopwords file.\n",
        "#To be used later.\n",
        "stop_words = open('/content/drive/MyDrive/Colab Files/stopwords-ur.txt', encoding='utf8')"
      ],
      "execution_count": null,
      "outputs": []
    },
    {
      "cell_type": "code",
      "metadata": {
        "colab": {
          "base_uri": "https://localhost:8080/"
        },
        "id": "2qIxNk12PQe6",
        "outputId": "479a3337-ab4f-4d48-f98e-977f93eea08d"
      },
      "source": [
        "read\n",
        "file.seek(0)"
      ],
      "execution_count": null,
      "outputs": [
        {
          "output_type": "execute_result",
          "data": {
            "text/plain": [
              "0"
            ]
          },
          "metadata": {
            "tags": []
          },
          "execution_count": 430
        }
      ]
    },
    {
      "cell_type": "code",
      "metadata": {
        "colab": {
          "base_uri": "https://localhost:8080/"
        },
        "id": "pgcFvYuROmrl",
        "outputId": "43d728c5-b76c-40d9-fb45-c508bc8c9e35"
      },
      "source": [
        "line = 1\n",
        "\n",
        "for word in read:\n",
        "    if word == '\\n':\n",
        "        line += 1\n",
        "print(\"Number of lines in a file is: \", line)"
      ],
      "execution_count": null,
      "outputs": [
        {
          "output_type": "stream",
          "text": [
            "Number of lines in a file is:  6\n"
          ],
          "name": "stdout"
        }
      ]
    },
    {
      "cell_type": "code",
      "metadata": {
        "id": "4-7nVc7wP3AK"
      },
      "source": [
        "docs = []"
      ],
      "execution_count": null,
      "outputs": []
    },
    {
      "cell_type": "code",
      "metadata": {
        "id": "ldCesO9uQDuc"
      },
      "source": [
        "for i in range(line):\n",
        "  docs.append(file.readline())"
      ],
      "execution_count": null,
      "outputs": []
    },
    {
      "cell_type": "code",
      "metadata": {
        "colab": {
          "base_uri": "https://localhost:8080/"
        },
        "id": "eHNfQGGtQPTY",
        "outputId": "2194a3bc-fb75-4923-fc99-4993abcd524a"
      },
      "source": [
        "docs"
      ],
      "execution_count": null,
      "outputs": [
        {
          "output_type": "execute_result",
          "data": {
            "text/plain": [
              "['میرا نام کامران ہے۔ \\n',\n",
              " 'میں یونیورسٹی آف انجینئرنگ پشاور میں زیر تعلیم ہوں۔ \\n',\n",
              " 'میں اس ملک کا محب وطن شہری ہوں۔ میں افواہیں\\n',\n",
              " 'نہیں پھیلاتا اور نہ ہی میں ان5 پر یقین کرتا ہوں۔\\n',\n",
              " 'میں زیادہ سے زیادہ مثبت خیالاتA پھیلاتا ہوں۔\\n',\n",
              " '']"
            ]
          },
          "metadata": {
            "tags": []
          },
          "execution_count": 434
        }
      ]
    },
    {
      "cell_type": "code",
      "metadata": {
        "id": "yqg9WKgyHsBr"
      },
      "source": [
        "import re"
      ],
      "execution_count": null,
      "outputs": []
    },
    {
      "cell_type": "code",
      "metadata": {
        "id": "5h557tLCGe1G"
      },
      "source": [
        "#clean the text\n",
        "def delete_urdu_english_symbols(sentences):\n",
        "    cleaned = []\n",
        "    for sentence in sentences:\n",
        "        text = re.sub(r\"\\d+\", \" \", sentence)\n",
        "        # English punctuations\n",
        "        text = re.sub(r\"\"\"[!\"#$%&'()*+,-./:;<=>?@[\\]^_`{|}~]+\"\"\", \" \", text)\n",
        "        # Urdu punctuations\n",
        "        text = re.sub(r\"[:؛؟’‘٭ء،]+\", \" \", text)\n",
        "        # Arabic numbers\n",
        "        text = re.sub(r\"[٠‎١‎٢‎٣‎٤‎٥‎٦‎٧‎٨‎٩]+\", \" \", text)\n",
        "       # text = re.sub(r\"[^\\w\\s]\", \" \", text)\n",
        "        # Remove English characters and numbers.\n",
        "        text = re.sub(r\"[a-zA-z0-9]+\", \" \", text)\n",
        "        # remove multiple spaces.\n",
        "        text = re.sub(r\" +\", \" \", text)\n",
        "        text = text.split(\" \")\n",
        "        # some stupid empty tokens should be removed.\n",
        "        text = [t.strip() for t in text if t.strip()]\n",
        "        cleaned.append(\" \".join(text))\n",
        "    return cleaned"
      ],
      "execution_count": null,
      "outputs": []
    },
    {
      "cell_type": "code",
      "metadata": {
        "id": "bGEf-QhC1Lai"
      },
      "source": [
        "docs = delete_urdu_english_symbols(docs)"
      ],
      "execution_count": null,
      "outputs": []
    },
    {
      "cell_type": "code",
      "metadata": {
        "id": "9bZIp-Sd40nz",
        "colab": {
          "base_uri": "https://localhost:8080/"
        },
        "outputId": "57337dba-2f34-4a71-fc61-fd2bd9cbcd50"
      },
      "source": [
        "docs"
      ],
      "execution_count": null,
      "outputs": [
        {
          "output_type": "execute_result",
          "data": {
            "text/plain": [
              "['میرا نام کامران ہے۔',\n",
              " 'میں یونیورسٹی آف انجینئرنگ پشاور میں زیر تعلیم ہوں۔',\n",
              " 'میں اس ملک کا محب وطن شہری ہوں۔ میں افواہیں',\n",
              " 'نہیں پھیلاتا اور نہ ہی میں ان پر یقین کرتا ہوں۔',\n",
              " 'میں زیادہ سے زیادہ مثبت خیالات پھیلاتا ہوں۔',\n",
              " '']"
            ]
          },
          "metadata": {
            "tags": []
          },
          "execution_count": 438
        }
      ]
    },
    {
      "cell_type": "code",
      "metadata": {
        "id": "ZFIH0wenC77M"
      },
      "source": [
        "docs = nlp(str(docs))"
      ],
      "execution_count": null,
      "outputs": []
    },
    {
      "cell_type": "code",
      "metadata": {
        "id": "Ave6OYZvK-hf",
        "colab": {
          "base_uri": "https://localhost:8080/"
        },
        "outputId": "4567b791-64eb-4a9f-a6a8-d3591b041708"
      },
      "source": [
        "type(docs)"
      ],
      "execution_count": null,
      "outputs": [
        {
          "output_type": "execute_result",
          "data": {
            "text/plain": [
              "stanza.models.common.doc.Document"
            ]
          },
          "metadata": {
            "tags": []
          },
          "execution_count": 440
        }
      ]
    },
    {
      "cell_type": "code",
      "metadata": {
        "id": "SKyrHcuFNW9W",
        "colab": {
          "base_uri": "https://localhost:8080/"
        },
        "outputId": "aab36be8-8132-4848-a1ea-c19efdcb6810"
      },
      "source": [
        "docs"
      ],
      "execution_count": null,
      "outputs": [
        {
          "output_type": "execute_result",
          "data": {
            "text/plain": [
              "[\n",
              "  [\n",
              "    {\n",
              "      \"id\": 1,\n",
              "      \"text\": \"['\",\n",
              "      \"misc\": \"start_char=0|end_char=2\"\n",
              "    },\n",
              "    {\n",
              "      \"id\": 2,\n",
              "      \"text\": \"میرا\",\n",
              "      \"misc\": \"start_char=2|end_char=6\"\n",
              "    },\n",
              "    {\n",
              "      \"id\": 3,\n",
              "      \"text\": \"نام\",\n",
              "      \"misc\": \"start_char=7|end_char=10\"\n",
              "    },\n",
              "    {\n",
              "      \"id\": 4,\n",
              "      \"text\": \"کامران\",\n",
              "      \"misc\": \"start_char=11|end_char=17\"\n",
              "    },\n",
              "    {\n",
              "      \"id\": 5,\n",
              "      \"text\": \"ہے\",\n",
              "      \"misc\": \"start_char=18|end_char=20\"\n",
              "    },\n",
              "    {\n",
              "      \"id\": 6,\n",
              "      \"text\": \"۔\",\n",
              "      \"misc\": \"start_char=20|end_char=21\"\n",
              "    },\n",
              "    {\n",
              "      \"id\": 7,\n",
              "      \"text\": \"'\",\n",
              "      \"misc\": \"start_char=21|end_char=22\"\n",
              "    },\n",
              "    {\n",
              "      \"id\": 8,\n",
              "      \"text\": \",\",\n",
              "      \"misc\": \"start_char=22|end_char=23\"\n",
              "    },\n",
              "    {\n",
              "      \"id\": 9,\n",
              "      \"text\": \"'\",\n",
              "      \"misc\": \"start_char=24|end_char=25\"\n",
              "    },\n",
              "    {\n",
              "      \"id\": 10,\n",
              "      \"text\": \"میں\",\n",
              "      \"misc\": \"start_char=25|end_char=28\"\n",
              "    },\n",
              "    {\n",
              "      \"id\": 11,\n",
              "      \"text\": \"یونیورسٹی\",\n",
              "      \"misc\": \"start_char=29|end_char=38\"\n",
              "    },\n",
              "    {\n",
              "      \"id\": 12,\n",
              "      \"text\": \"آف\",\n",
              "      \"misc\": \"start_char=39|end_char=41\"\n",
              "    },\n",
              "    {\n",
              "      \"id\": 13,\n",
              "      \"text\": \"انجینئرنگ\",\n",
              "      \"misc\": \"start_char=42|end_char=51\"\n",
              "    },\n",
              "    {\n",
              "      \"id\": 14,\n",
              "      \"text\": \"پشاور\",\n",
              "      \"misc\": \"start_char=52|end_char=57\"\n",
              "    },\n",
              "    {\n",
              "      \"id\": 15,\n",
              "      \"text\": \"میں\",\n",
              "      \"misc\": \"start_char=58|end_char=61\"\n",
              "    },\n",
              "    {\n",
              "      \"id\": 16,\n",
              "      \"text\": \"زیر\",\n",
              "      \"misc\": \"start_char=62|end_char=65\"\n",
              "    },\n",
              "    {\n",
              "      \"id\": 17,\n",
              "      \"text\": \"تعلیم\",\n",
              "      \"misc\": \"start_char=66|end_char=71\"\n",
              "    },\n",
              "    {\n",
              "      \"id\": 18,\n",
              "      \"text\": \"ہوں\",\n",
              "      \"misc\": \"start_char=72|end_char=75\"\n",
              "    },\n",
              "    {\n",
              "      \"id\": 19,\n",
              "      \"text\": \"۔\",\n",
              "      \"misc\": \"start_char=75|end_char=76\"\n",
              "    },\n",
              "    {\n",
              "      \"id\": 20,\n",
              "      \"text\": \"'\",\n",
              "      \"misc\": \"start_char=76|end_char=77\"\n",
              "    },\n",
              "    {\n",
              "      \"id\": 21,\n",
              "      \"text\": \",\",\n",
              "      \"misc\": \"start_char=77|end_char=78\"\n",
              "    },\n",
              "    {\n",
              "      \"id\": 22,\n",
              "      \"text\": \"'\",\n",
              "      \"misc\": \"start_char=79|end_char=80\"\n",
              "    },\n",
              "    {\n",
              "      \"id\": 23,\n",
              "      \"text\": \"میں\",\n",
              "      \"misc\": \"start_char=80|end_char=83\"\n",
              "    },\n",
              "    {\n",
              "      \"id\": 24,\n",
              "      \"text\": \"اس\",\n",
              "      \"misc\": \"start_char=84|end_char=86\"\n",
              "    },\n",
              "    {\n",
              "      \"id\": 25,\n",
              "      \"text\": \"ملک\",\n",
              "      \"misc\": \"start_char=87|end_char=90\"\n",
              "    },\n",
              "    {\n",
              "      \"id\": 26,\n",
              "      \"text\": \"کا\",\n",
              "      \"misc\": \"start_char=91|end_char=93\"\n",
              "    },\n",
              "    {\n",
              "      \"id\": 27,\n",
              "      \"text\": \"محب\",\n",
              "      \"misc\": \"start_char=94|end_char=97\"\n",
              "    },\n",
              "    {\n",
              "      \"id\": 28,\n",
              "      \"text\": \"وطن\",\n",
              "      \"misc\": \"start_char=98|end_char=101\"\n",
              "    },\n",
              "    {\n",
              "      \"id\": 29,\n",
              "      \"text\": \"شہری\",\n",
              "      \"misc\": \"start_char=102|end_char=106\"\n",
              "    },\n",
              "    {\n",
              "      \"id\": 30,\n",
              "      \"text\": \"ہوں\",\n",
              "      \"misc\": \"start_char=107|end_char=110\"\n",
              "    },\n",
              "    {\n",
              "      \"id\": 31,\n",
              "      \"text\": \"۔\",\n",
              "      \"misc\": \"start_char=110|end_char=111\"\n",
              "    }\n",
              "  ],\n",
              "  [\n",
              "    {\n",
              "      \"id\": 1,\n",
              "      \"text\": \"میں\",\n",
              "      \"misc\": \"start_char=112|end_char=115\"\n",
              "    },\n",
              "    {\n",
              "      \"id\": 2,\n",
              "      \"text\": \"افواہیں\",\n",
              "      \"misc\": \"start_char=116|end_char=123\"\n",
              "    },\n",
              "    {\n",
              "      \"id\": 3,\n",
              "      \"text\": \"'\",\n",
              "      \"misc\": \"start_char=123|end_char=124\"\n",
              "    },\n",
              "    {\n",
              "      \"id\": 4,\n",
              "      \"text\": \",\",\n",
              "      \"misc\": \"start_char=124|end_char=125\"\n",
              "    },\n",
              "    {\n",
              "      \"id\": 5,\n",
              "      \"text\": \"'\",\n",
              "      \"misc\": \"start_char=126|end_char=127\"\n",
              "    },\n",
              "    {\n",
              "      \"id\": 6,\n",
              "      \"text\": \"نہیں\",\n",
              "      \"misc\": \"start_char=127|end_char=131\"\n",
              "    },\n",
              "    {\n",
              "      \"id\": 7,\n",
              "      \"text\": \"پھیلاتا\",\n",
              "      \"misc\": \"start_char=132|end_char=139\"\n",
              "    },\n",
              "    {\n",
              "      \"id\": 8,\n",
              "      \"text\": \"اور\",\n",
              "      \"misc\": \"start_char=140|end_char=143\"\n",
              "    },\n",
              "    {\n",
              "      \"id\": 9,\n",
              "      \"text\": \"نہ\",\n",
              "      \"misc\": \"start_char=144|end_char=146\"\n",
              "    },\n",
              "    {\n",
              "      \"id\": 10,\n",
              "      \"text\": \"ہی\",\n",
              "      \"misc\": \"start_char=147|end_char=149\"\n",
              "    },\n",
              "    {\n",
              "      \"id\": 11,\n",
              "      \"text\": \"میں\",\n",
              "      \"misc\": \"start_char=150|end_char=153\"\n",
              "    },\n",
              "    {\n",
              "      \"id\": 12,\n",
              "      \"text\": \"ان\",\n",
              "      \"misc\": \"start_char=154|end_char=156\"\n",
              "    },\n",
              "    {\n",
              "      \"id\": 13,\n",
              "      \"text\": \"پر\",\n",
              "      \"misc\": \"start_char=157|end_char=159\"\n",
              "    },\n",
              "    {\n",
              "      \"id\": 14,\n",
              "      \"text\": \"یقین\",\n",
              "      \"misc\": \"start_char=160|end_char=164\"\n",
              "    },\n",
              "    {\n",
              "      \"id\": 15,\n",
              "      \"text\": \"کرتا\",\n",
              "      \"misc\": \"start_char=165|end_char=169\"\n",
              "    },\n",
              "    {\n",
              "      \"id\": 16,\n",
              "      \"text\": \"ہوں\",\n",
              "      \"misc\": \"start_char=170|end_char=173\"\n",
              "    },\n",
              "    {\n",
              "      \"id\": 17,\n",
              "      \"text\": \"۔\",\n",
              "      \"misc\": \"start_char=173|end_char=174\"\n",
              "    },\n",
              "    {\n",
              "      \"id\": 18,\n",
              "      \"text\": \"'\",\n",
              "      \"misc\": \"start_char=174|end_char=175\"\n",
              "    },\n",
              "    {\n",
              "      \"id\": 19,\n",
              "      \"text\": \",\",\n",
              "      \"misc\": \"start_char=175|end_char=176\"\n",
              "    },\n",
              "    {\n",
              "      \"id\": 20,\n",
              "      \"text\": \"'\",\n",
              "      \"misc\": \"start_char=177|end_char=178\"\n",
              "    },\n",
              "    {\n",
              "      \"id\": 21,\n",
              "      \"text\": \"میں\",\n",
              "      \"misc\": \"start_char=178|end_char=181\"\n",
              "    },\n",
              "    {\n",
              "      \"id\": 22,\n",
              "      \"text\": \"زیادہ\",\n",
              "      \"misc\": \"start_char=182|end_char=187\"\n",
              "    },\n",
              "    {\n",
              "      \"id\": 23,\n",
              "      \"text\": \"سے\",\n",
              "      \"misc\": \"start_char=188|end_char=190\"\n",
              "    },\n",
              "    {\n",
              "      \"id\": 24,\n",
              "      \"text\": \"زیادہ\",\n",
              "      \"misc\": \"start_char=191|end_char=196\"\n",
              "    },\n",
              "    {\n",
              "      \"id\": 25,\n",
              "      \"text\": \"مثبت\",\n",
              "      \"misc\": \"start_char=197|end_char=201\"\n",
              "    },\n",
              "    {\n",
              "      \"id\": 26,\n",
              "      \"text\": \"خیالات\",\n",
              "      \"misc\": \"start_char=202|end_char=208\"\n",
              "    },\n",
              "    {\n",
              "      \"id\": 27,\n",
              "      \"text\": \"پھیلاتا\",\n",
              "      \"misc\": \"start_char=209|end_char=216\"\n",
              "    },\n",
              "    {\n",
              "      \"id\": 28,\n",
              "      \"text\": \"ہوں\",\n",
              "      \"misc\": \"start_char=217|end_char=220\"\n",
              "    },\n",
              "    {\n",
              "      \"id\": 29,\n",
              "      \"text\": \"۔\",\n",
              "      \"misc\": \"start_char=220|end_char=221\"\n",
              "    }\n",
              "  ],\n",
              "  [\n",
              "    {\n",
              "      \"id\": 1,\n",
              "      \"text\": \"'\",\n",
              "      \"misc\": \"start_char=221|end_char=222\"\n",
              "    },\n",
              "    {\n",
              "      \"id\": 2,\n",
              "      \"text\": \",\",\n",
              "      \"misc\": \"start_char=222|end_char=223\"\n",
              "    },\n",
              "    {\n",
              "      \"id\": 3,\n",
              "      \"text\": \"''\",\n",
              "      \"misc\": \"start_char=224|end_char=226\"\n",
              "    },\n",
              "    {\n",
              "      \"id\": 4,\n",
              "      \"text\": \"]\",\n",
              "      \"misc\": \"start_char=226|end_char=227\"\n",
              "    }\n",
              "  ]\n",
              "]"
            ]
          },
          "metadata": {
            "tags": []
          },
          "execution_count": 441
        }
      ]
    },
    {
      "cell_type": "code",
      "metadata": {
        "colab": {
          "base_uri": "https://localhost:8080/"
        },
        "id": "wvO_rLwPkf7b",
        "outputId": "90600ceb-e2e1-4315-987e-60f1cf03a12a"
      },
      "source": [
        "for i, sentence in enumerate(docs.sentences):\n",
        "  print(f\"============sentence {i + 1} tokens===============\")\n",
        "  print(*[f'id: {token.id} \\text: {token.text}' for token in sentence.tokens], sep='\\n')"
      ],
      "execution_count": null,
      "outputs": [
        {
          "output_type": "stream",
          "text": [
            "============sentence 1 tokens===============\n",
            "id: (1,) \text: ['\n",
            "id: (2,) \text: میرا\n",
            "id: (3,) \text: نام\n",
            "id: (4,) \text: کامران\n",
            "id: (5,) \text: ہے\n",
            "id: (6,) \text: ۔\n",
            "id: (7,) \text: '\n",
            "id: (8,) \text: ,\n",
            "id: (9,) \text: '\n",
            "id: (10,) \text: میں\n",
            "id: (11,) \text: یونیورسٹی\n",
            "id: (12,) \text: آف\n",
            "id: (13,) \text: انجینئرنگ\n",
            "id: (14,) \text: پشاور\n",
            "id: (15,) \text: میں\n",
            "id: (16,) \text: زیر\n",
            "id: (17,) \text: تعلیم\n",
            "id: (18,) \text: ہوں\n",
            "id: (19,) \text: ۔\n",
            "id: (20,) \text: '\n",
            "id: (21,) \text: ,\n",
            "id: (22,) \text: '\n",
            "id: (23,) \text: میں\n",
            "id: (24,) \text: اس\n",
            "id: (25,) \text: ملک\n",
            "id: (26,) \text: کا\n",
            "id: (27,) \text: محب\n",
            "id: (28,) \text: وطن\n",
            "id: (29,) \text: شہری\n",
            "id: (30,) \text: ہوں\n",
            "id: (31,) \text: ۔\n",
            "============sentence 2 tokens===============\n",
            "id: (1,) \text: میں\n",
            "id: (2,) \text: افواہیں\n",
            "id: (3,) \text: '\n",
            "id: (4,) \text: ,\n",
            "id: (5,) \text: '\n",
            "id: (6,) \text: نہیں\n",
            "id: (7,) \text: پھیلاتا\n",
            "id: (8,) \text: اور\n",
            "id: (9,) \text: نہ\n",
            "id: (10,) \text: ہی\n",
            "id: (11,) \text: میں\n",
            "id: (12,) \text: ان\n",
            "id: (13,) \text: پر\n",
            "id: (14,) \text: یقین\n",
            "id: (15,) \text: کرتا\n",
            "id: (16,) \text: ہوں\n",
            "id: (17,) \text: ۔\n",
            "id: (18,) \text: '\n",
            "id: (19,) \text: ,\n",
            "id: (20,) \text: '\n",
            "id: (21,) \text: میں\n",
            "id: (22,) \text: زیادہ\n",
            "id: (23,) \text: سے\n",
            "id: (24,) \text: زیادہ\n",
            "id: (25,) \text: مثبت\n",
            "id: (26,) \text: خیالات\n",
            "id: (27,) \text: پھیلاتا\n",
            "id: (28,) \text: ہوں\n",
            "id: (29,) \text: ۔\n",
            "============sentence 3 tokens===============\n",
            "id: (1,) \text: '\n",
            "id: (2,) \text: ,\n",
            "id: (3,) \text: ''\n",
            "id: (4,) \text: ]\n"
          ],
          "name": "stdout"
        }
      ]
    },
    {
      "cell_type": "code",
      "metadata": {
        "id": "73n8Af6gKuVL"
      },
      "source": [
        "#print([sentence.text for sentence in docs.sentences])  "
      ],
      "execution_count": null,
      "outputs": []
    },
    {
      "cell_type": "code",
      "metadata": {
        "id": "e6xcU1CFVaTw"
      },
      "source": [
        "#sent_list = [sentence.text for sentence in docs.sentences]"
      ],
      "execution_count": null,
      "outputs": []
    },
    {
      "cell_type": "code",
      "metadata": {
        "id": "BZcLZdRkvmvX"
      },
      "source": [
        "#sent_list"
      ],
      "execution_count": null,
      "outputs": []
    },
    {
      "cell_type": "code",
      "metadata": {
        "colab": {
          "base_uri": "https://localhost:8080/"
        },
        "id": "NYG1ZrN0xtR6",
        "outputId": "44ddf833-6a09-4f9d-ed0e-f1196d3e3ce6"
      },
      "source": [
        "term_set = set()\n",
        "for i, sentence in enumerate(docs.sentences):\n",
        "  print(f\"============sentence {i + 1} tokens===============\")\n",
        "  print(*[f'text: {token.text}' for token in sentence.tokens], sep='\\n')\n",
        "  {term_set.add(token.text) for token in sentence.tokens}\n",
        "  "
      ],
      "execution_count": null,
      "outputs": [
        {
          "output_type": "stream",
          "text": [
            "============sentence 1 tokens===============\n",
            "text: ['\n",
            "text: میرا\n",
            "text: نام\n",
            "text: کامران\n",
            "text: ہے\n",
            "text: ۔\n",
            "text: '\n",
            "text: ,\n",
            "text: '\n",
            "text: میں\n",
            "text: یونیورسٹی\n",
            "text: آف\n",
            "text: انجینئرنگ\n",
            "text: پشاور\n",
            "text: میں\n",
            "text: زیر\n",
            "text: تعلیم\n",
            "text: ہوں\n",
            "text: ۔\n",
            "text: '\n",
            "text: ,\n",
            "text: '\n",
            "text: میں\n",
            "text: اس\n",
            "text: ملک\n",
            "text: کا\n",
            "text: محب\n",
            "text: وطن\n",
            "text: شہری\n",
            "text: ہوں\n",
            "text: ۔\n",
            "============sentence 2 tokens===============\n",
            "text: میں\n",
            "text: افواہیں\n",
            "text: '\n",
            "text: ,\n",
            "text: '\n",
            "text: نہیں\n",
            "text: پھیلاتا\n",
            "text: اور\n",
            "text: نہ\n",
            "text: ہی\n",
            "text: میں\n",
            "text: ان\n",
            "text: پر\n",
            "text: یقین\n",
            "text: کرتا\n",
            "text: ہوں\n",
            "text: ۔\n",
            "text: '\n",
            "text: ,\n",
            "text: '\n",
            "text: میں\n",
            "text: زیادہ\n",
            "text: سے\n",
            "text: زیادہ\n",
            "text: مثبت\n",
            "text: خیالات\n",
            "text: پھیلاتا\n",
            "text: ہوں\n",
            "text: ۔\n",
            "============sentence 3 tokens===============\n",
            "text: '\n",
            "text: ,\n",
            "text: ''\n",
            "text: ]\n"
          ],
          "name": "stdout"
        }
      ]
    },
    {
      "cell_type": "code",
      "metadata": {
        "colab": {
          "base_uri": "https://localhost:8080/"
        },
        "id": "vH4GoLJ4zp6z",
        "outputId": "42c12668-f77a-4365-ced7-cd0fc68d8ad9"
      },
      "source": [
        "term_set"
      ],
      "execution_count": null,
      "outputs": [
        {
          "output_type": "execute_result",
          "data": {
            "text/plain": [
              "{\"'\",\n",
              " \"''\",\n",
              " ',',\n",
              " \"['\",\n",
              " ']',\n",
              " 'آف',\n",
              " 'اس',\n",
              " 'افواہیں',\n",
              " 'ان',\n",
              " 'انجینئرنگ',\n",
              " 'اور',\n",
              " 'تعلیم',\n",
              " 'خیالات',\n",
              " 'زیادہ',\n",
              " 'زیر',\n",
              " 'سے',\n",
              " 'شہری',\n",
              " 'مثبت',\n",
              " 'محب',\n",
              " 'ملک',\n",
              " 'میرا',\n",
              " 'میں',\n",
              " 'نام',\n",
              " 'نہ',\n",
              " 'نہیں',\n",
              " 'وطن',\n",
              " 'پر',\n",
              " 'پشاور',\n",
              " 'پھیلاتا',\n",
              " 'کا',\n",
              " 'کامران',\n",
              " 'کرتا',\n",
              " 'ہوں',\n",
              " 'ہی',\n",
              " 'ہے',\n",
              " 'یقین',\n",
              " 'یونیورسٹی',\n",
              " '۔'}"
            ]
          },
          "metadata": {
            "tags": []
          },
          "execution_count": 449
        }
      ]
    },
    {
      "cell_type": "code",
      "metadata": {
        "id": "38OTVZmd9D26"
      },
      "source": [
        "urdu_word = 'کامران'"
      ],
      "execution_count": null,
      "outputs": []
    },
    {
      "cell_type": "code",
      "metadata": {
        "colab": {
          "base_uri": "https://localhost:8080/"
        },
        "id": "2qCgYzSK6AIh",
        "outputId": "f3679b6b-4485-4740-a4ac-f712b0dbd86d"
      },
      "source": [
        " for i, sentence in enumerate(docs.sentences):\n",
        "  if urdu_word in sentence.text:\n",
        "    print(\"Yes it is in the list\")\n",
        "  else:\n",
        "    print(\"No it isn't in the list\")"
      ],
      "execution_count": null,
      "outputs": [
        {
          "output_type": "stream",
          "text": [
            "Yes it is in the list\n",
            "No it isn't in the list\n",
            "No it isn't in the list\n"
          ],
          "name": "stdout"
        }
      ]
    },
    {
      "cell_type": "code",
      "metadata": {
        "colab": {
          "base_uri": "https://localhost:8080/"
        },
        "id": "c5UZdYM15qNM",
        "outputId": "14433058-e4d5-4cd7-f6c6-c5d41de73a0f"
      },
      "source": [
        "inverted_index = {}\n",
        "for i, sentence in enumerate(docs.sentences):\n",
        "  for token in sentence.tokens:\n",
        "    if token.text in inverted_index:\n",
        "      inverted_index[token.text].add(i)\n",
        "    else: inverted_index[token.text] = {i}\n",
        "inverted_index"
      ],
      "execution_count": null,
      "outputs": [
        {
          "output_type": "execute_result",
          "data": {
            "text/plain": [
              "{\"'\": {0, 1, 2},\n",
              " \"''\": {2},\n",
              " ',': {0, 1, 2},\n",
              " \"['\": {0},\n",
              " ']': {2},\n",
              " 'آف': {0},\n",
              " 'اس': {0},\n",
              " 'افواہیں': {1},\n",
              " 'ان': {1},\n",
              " 'انجینئرنگ': {0},\n",
              " 'اور': {1},\n",
              " 'تعلیم': {0},\n",
              " 'خیالات': {1},\n",
              " 'زیادہ': {1},\n",
              " 'زیر': {0},\n",
              " 'سے': {1},\n",
              " 'شہری': {0},\n",
              " 'مثبت': {1},\n",
              " 'محب': {0},\n",
              " 'ملک': {0},\n",
              " 'میرا': {0},\n",
              " 'میں': {0, 1},\n",
              " 'نام': {0},\n",
              " 'نہ': {1},\n",
              " 'نہیں': {1},\n",
              " 'وطن': {0},\n",
              " 'پر': {1},\n",
              " 'پشاور': {0},\n",
              " 'پھیلاتا': {1},\n",
              " 'کا': {0},\n",
              " 'کامران': {0},\n",
              " 'کرتا': {1},\n",
              " 'ہوں': {0, 1},\n",
              " 'ہی': {1},\n",
              " 'ہے': {0},\n",
              " 'یقین': {1},\n",
              " 'یونیورسٹی': {0},\n",
              " '۔': {0, 1}}"
            ]
          },
          "metadata": {
            "tags": []
          },
          "execution_count": 453
        }
      ]
    },
    {
      "cell_type": "code",
      "metadata": {
        "id": "_BhO68ucfbff"
      },
      "source": [
        "postings_list = inverted_index['پھیلاتا']"
      ],
      "execution_count": null,
      "outputs": []
    },
    {
      "cell_type": "code",
      "metadata": {
        "colab": {
          "base_uri": "https://localhost:8080/"
        },
        "id": "HEgHgmB-lYxV",
        "outputId": "67a7c2bd-f78e-4582-9f6e-97e9d50ac369"
      },
      "source": [
        "postings_list"
      ],
      "execution_count": null,
      "outputs": [
        {
          "output_type": "execute_result",
          "data": {
            "text/plain": [
              "{1}"
            ]
          },
          "metadata": {
            "tags": []
          },
          "execution_count": 455
        }
      ]
    },
    {
      "cell_type": "code",
      "metadata": {
        "id": "ZG8B4Ec_lkQz"
      },
      "source": [
        "def or_postings(posting1, posting2):\n",
        "    p1 = 0\n",
        "    p2 = 0\n",
        "    result = list()\n",
        "    while p1 < len(posting1) and p2 < len(posting2):\n",
        "        if posting1[p1] == posting2[p2]:\n",
        "            result.append(posting1[p1])\n",
        "            p1 += 1\n",
        "            p2 += 1\n",
        "        elif posting1[p1] > posting2[p2]:\n",
        "            result.append(posting2[p2])\n",
        "            p2 += 1\n",
        "        else:\n",
        "            result.append(posting1[p1])\n",
        "            p1 += 1\n",
        "    while p1 < len(posting1):\n",
        "        result.append(posting1[p1])\n",
        "        p1 += 1\n",
        "    while p2 < len(posting2):\n",
        "        result.append(posting2[p2])\n",
        "        p2 += 1\n",
        "    return result"
      ],
      "execution_count": null,
      "outputs": []
    },
    {
      "cell_type": "code",
      "metadata": {
        "colab": {
          "base_uri": "https://localhost:8080/"
        },
        "id": "DFsDMGt6m7-s",
        "outputId": "5e2dcc44-e0b4-4cfb-989f-604c436c8e54"
      },
      "source": [
        "pl_1 = list(inverted_index['پشاور'])\n",
        "pl_2 = list(inverted_index['یقین'])\n",
        "or_postings(pl_1, pl_2)"
      ],
      "execution_count": null,
      "outputs": [
        {
          "output_type": "execute_result",
          "data": {
            "text/plain": [
              "[0, 1]"
            ]
          },
          "metadata": {
            "tags": []
          },
          "execution_count": 457
        }
      ]
    },
    {
      "cell_type": "code",
      "metadata": {
        "id": "oKv5Y3XuquyU"
      },
      "source": [
        "def and_postings(posting1, posting2):\n",
        "    p1 = 0\n",
        "    p2 = 0\n",
        "    result = list()\n",
        "    while p1 < len(posting1) and p2 < len(posting2):\n",
        "        if posting1[p1] == posting2[p2]:\n",
        "            result.append(posting1[p1])\n",
        "            p1 += 1\n",
        "            p2 += 1\n",
        "        elif posting1[p1] > posting2[p2]:\n",
        "            p2 += 1\n",
        "        else:\n",
        "            p1 += 1\n",
        "    return result"
      ],
      "execution_count": null,
      "outputs": []
    },
    {
      "cell_type": "code",
      "metadata": {
        "colab": {
          "base_uri": "https://localhost:8080/"
        },
        "id": "PoQqyUrfq2e9",
        "outputId": "29f0915c-c037-404f-f8e5-cd930839b5fe"
      },
      "source": [
        "pl_1 = list(inverted_index['پشاور'])\n",
        "pl_2 = list(inverted_index['یقین'])\n",
        "and_postings(pl_1, pl_2)"
      ],
      "execution_count": null,
      "outputs": [
        {
          "output_type": "execute_result",
          "data": {
            "text/plain": [
              "[]"
            ]
          },
          "metadata": {
            "tags": []
          },
          "execution_count": 459
        }
      ]
    }
  ]
}